{
  "nbformat": 4,
  "nbformat_minor": 0,
  "metadata": {
    "colab": {
      "name": "image_captioning.ipynb",
      "provenance": [],
      "collapsed_sections": []
    },
    "kernelspec": {
      "name": "python3",
      "display_name": "Python 3"
    },
    "language_info": {
      "name": "python"
    },
    "accelerator": "GPU"
  },
  "cells": [
    {
      "cell_type": "markdown",
      "metadata": {
        "id": "ubFK6aBx8UZQ"
      },
      "source": [
        "# Image Captioning"
      ]
    },
    {
      "cell_type": "markdown",
      "metadata": {
        "id": "NkJMouAH8zWS"
      },
      "source": [
        "## Import Required Libraries"
      ]
    },
    {
      "cell_type": "code",
      "metadata": {
        "execution": {
          "iopub.execute_input": "2021-06-16T18:47:45.905250Z",
          "iopub.status.busy": "2021-06-16T18:47:45.904691Z",
          "iopub.status.idle": "2021-06-16T18:47:47.492796Z",
          "shell.execute_reply": "2021-06-16T18:47:47.492254Z"
        },
        "id": "U8l4RJ0XRPEm"
      },
      "source": [
        "import os\n",
        "import time\n",
        "import json\n",
        "import random\n",
        "import warnings\n",
        "import collections\n",
        "\n",
        "import numpy as np\n",
        "import tensorflow as tf\n",
        "import matplotlib.pyplot as plt\n",
        "\n",
        "from PIL import Image\n",
        "from progressbar import ProgressBar\n",
        "from nltk.translate.bleu_score import corpus_bleu, SmoothingFunction\n",
        "\n",
        "warnings.filterwarnings('ignore')"
      ],
      "execution_count": null,
      "outputs": []
    },
    {
      "cell_type": "markdown",
      "metadata": {
        "id": "b6qbGw8MRPE5"
      },
      "source": [
        "## Download and Prepare the MS-COCO Dataset"
      ]
    },
    {
      "cell_type": "code",
      "metadata": {
        "execution": {
          "iopub.execute_input": "2021-06-16T18:47:47.499614Z",
          "iopub.status.busy": "2021-06-16T18:47:47.499007Z",
          "iopub.status.idle": "2021-06-16T19:02:54.144029Z",
          "shell.execute_reply": "2021-06-16T19:02:54.143381Z"
        },
        "id": "krQuPYTtRPE7"
      },
      "source": [
        "# Download caption annotation files\n",
        "annotation_folder = '/annotations/'\n",
        "if not os.path.exists(os.path.abspath('.') + annotation_folder):\n",
        "  annotation_zip = tf.keras.utils.get_file('captions.zip',\n",
        "                                           cache_subdir=os.path.abspath('.'),\n",
        "                                           origin='http://images.cocodataset.org/annotations/annotations_trainval2014.zip',\n",
        "                                           extract=True)\n",
        "  annotation_file = os.path.dirname(annotation_zip)+'/annotations/captions_train2014.json'\n",
        "  os.remove(annotation_zip)\n",
        "else:\n",
        "  annotation_file = '/content/annotations/captions_train2014.json'\n",
        "# Download image files\n",
        "image_folder = '/train2014/'\n",
        "if not os.path.exists(os.path.abspath('.') + image_folder):\n",
        "  image_zip = tf.keras.utils.get_file('train2014.zip',\n",
        "                                      cache_subdir=os.path.abspath('.'),\n",
        "                                      origin='http://images.cocodataset.org/zips/train2014.zip',\n",
        "                                      extract=True)\n",
        "  PATH = os.path.dirname(image_zip) + image_folder\n",
        "  os.remove(image_zip)\n",
        "else:\n",
        "  PATH = os.path.abspath('.') + image_folder"
      ],
      "execution_count": null,
      "outputs": []
    },
    {
      "cell_type": "markdown",
      "metadata": {
        "id": "aANEzb5WwSzg"
      },
      "source": [
        "## Optional: limit the size of the training set "
      ]
    },
    {
      "cell_type": "code",
      "metadata": {
        "execution": {
          "iopub.execute_input": "2021-06-16T19:02:54.148647Z",
          "iopub.status.busy": "2021-06-16T19:02:54.147988Z",
          "iopub.status.idle": "2021-06-16T19:02:54.942543Z",
          "shell.execute_reply": "2021-06-16T19:02:54.942956Z"
        },
        "id": "m8iBJCyVB2ud"
      },
      "source": [
        "with open(annotation_file, 'r') as f:\n",
        "    annotations = json.load(f)"
      ],
      "execution_count": null,
      "outputs": []
    },
    {
      "cell_type": "code",
      "metadata": {
        "execution": {
          "iopub.execute_input": "2021-06-16T19:02:55.012597Z",
          "iopub.status.busy": "2021-06-16T19:02:54.976577Z",
          "iopub.status.idle": "2021-06-16T19:02:55.441054Z",
          "shell.execute_reply": "2021-06-16T19:02:55.441445Z"
        },
        "id": "miER7EHMB3Ge"
      },
      "source": [
        "# Group all captions together having the same image ID.\n",
        "image_path_to_caption = collections.defaultdict(list)\n",
        "for val in annotations['annotations']:\n",
        "  caption = f\"<start> {val['caption']} <end>\"\n",
        "  image_path = PATH + 'COCO_train2014_' + '%012d.jpg' % (val['image_id'])\n",
        "  image_path_to_caption[image_path].append(caption)"
      ],
      "execution_count": null,
      "outputs": []
    },
    {
      "cell_type": "code",
      "metadata": {
        "execution": {
          "iopub.execute_input": "2021-06-16T19:02:55.485394Z",
          "iopub.status.busy": "2021-06-16T19:02:55.480241Z",
          "iopub.status.idle": "2021-06-16T19:02:55.498517Z",
          "shell.execute_reply": "2021-06-16T19:02:55.498856Z"
        },
        "id": "7vvqkqYGMhvm"
      },
      "source": [
        "image_paths = list(image_path_to_caption.keys())\n",
        "random.shuffle(image_paths)\n",
        "\n",
        "# Select the first 6000 image_paths from the shuffled set.\n",
        "# Approximately each image id has 5 captions associated with it, so that will lead to 30,000 examples.\n",
        "train_image_paths = image_paths[:6000]\n",
        "# train_image_paths = image_paths\n",
        "print(len(train_image_paths))"
      ],
      "execution_count": null,
      "outputs": []
    },
    {
      "cell_type": "code",
      "metadata": {
        "execution": {
          "iopub.execute_input": "2021-06-16T19:02:55.509058Z",
          "iopub.status.busy": "2021-06-16T19:02:55.508205Z",
          "iopub.status.idle": "2021-06-16T19:02:55.510539Z",
          "shell.execute_reply": "2021-06-16T19:02:55.510100Z"
        },
        "id": "hrmdtMX8Lnyh"
      },
      "source": [
        "train_captions = []\n",
        "img_name_vector = []\n",
        "\n",
        "for image_path in train_image_paths:\n",
        "  caption_list = image_path_to_caption[image_path]\n",
        "  train_captions.extend(caption_list)\n",
        "  img_name_vector.extend([image_path] * len(caption_list))"
      ],
      "execution_count": null,
      "outputs": []
    },
    {
      "cell_type": "code",
      "metadata": {
        "execution": {
          "iopub.execute_input": "2021-06-16T19:02:55.514587Z",
          "iopub.status.busy": "2021-06-16T19:02:55.513672Z",
          "iopub.status.idle": "2021-06-16T19:02:55.635020Z",
          "shell.execute_reply": "2021-06-16T19:02:55.635439Z"
        },
        "id": "RhCND0bCUP11"
      },
      "source": [
        "print(train_captions[0].replace('<start> ', '').replace(' <end>', ''))\n",
        "Image.open(img_name_vector[0])"
      ],
      "execution_count": null,
      "outputs": []
    },
    {
      "cell_type": "markdown",
      "metadata": {
        "id": "8cSW4u-ORPFQ"
      },
      "source": [
        "## Preprocess the Images using InceptionV3"
      ]
    },
    {
      "cell_type": "code",
      "metadata": {
        "execution": {
          "iopub.execute_input": "2021-06-16T19:02:55.640450Z",
          "iopub.status.busy": "2021-06-16T19:02:55.639624Z",
          "iopub.status.idle": "2021-06-16T19:02:55.641883Z",
          "shell.execute_reply": "2021-06-16T19:02:55.641464Z"
        },
        "id": "zXR0217aRPFR"
      },
      "source": [
        "def load_image(image_path):\n",
        "    img = tf.io.read_file(image_path)\n",
        "    img = tf.image.decode_jpeg(img, channels=3)\n",
        "    img = tf.image.resize(img, (299, 299))\n",
        "    img = tf.keras.applications.inception_v3.preprocess_input(img)\n",
        "    return img, image_path"
      ],
      "execution_count": null,
      "outputs": []
    },
    {
      "cell_type": "markdown",
      "metadata": {
        "id": "MDvIu4sXRPFV"
      },
      "source": [
        "## Initialize InceptionV3 and Load the Pretrained Imagenet Weights"
      ]
    },
    {
      "cell_type": "code",
      "metadata": {
        "execution": {
          "iopub.execute_input": "2021-06-16T19:02:55.647954Z",
          "iopub.status.busy": "2021-06-16T19:02:55.647363Z",
          "iopub.status.idle": "2021-06-16T19:03:00.408818Z",
          "shell.execute_reply": "2021-06-16T19:03:00.408298Z"
        },
        "id": "RD3vW4SsRPFW"
      },
      "source": [
        "image_model = tf.keras.applications.InceptionV3(include_top=False, weights='imagenet')\n",
        "new_input = image_model.input\n",
        "hidden_layer = image_model.layers[-1].output\n",
        "\n",
        "image_features_extract_model = tf.keras.Model(new_input, hidden_layer)"
      ],
      "execution_count": null,
      "outputs": []
    },
    {
      "cell_type": "markdown",
      "metadata": {
        "id": "rERqlR3WRPGO"
      },
      "source": [
        "## Caching the Features Extracted from InceptionV3\n"
      ]
    },
    {
      "cell_type": "code",
      "metadata": {
        "execution": {
          "iopub.execute_input": "2021-06-16T19:03:00.431802Z",
          "iopub.status.busy": "2021-06-16T19:03:00.431177Z",
          "iopub.status.idle": "2021-06-16T19:03:41.684683Z",
          "shell.execute_reply": "2021-06-16T19:03:41.685072Z"
        },
        "id": "Dx_fvbVgRPGQ"
      },
      "source": [
        "# Get unique images\n",
        "encode_train = sorted(set(img_name_vector))\n",
        "\n",
        "# Feel free to change batch_size according to your system configuration\n",
        "image_dataset = tf.data.Dataset.from_tensor_slices(encode_train)\n",
        "image_dataset = image_dataset.map(\n",
        "  load_image, num_parallel_calls=tf.data.AUTOTUNE).batch(16)\n",
        "\n",
        "pbar = ProgressBar()\n",
        "for img, path in pbar(image_dataset):\n",
        "  batch_features = image_features_extract_model(img)\n",
        "  batch_features = tf.reshape(batch_features,\n",
        "                              (batch_features.shape[0], -1, batch_features.shape[3]))\n",
        "\n",
        "  for bf, p in zip(batch_features, path):\n",
        "    path_of_feature = p.numpy().decode(\"utf-8\")\n",
        "    np.save(path_of_feature, bf.numpy())"
      ],
      "execution_count": null,
      "outputs": []
    },
    {
      "cell_type": "markdown",
      "metadata": {
        "id": "nyqH3zFwRPFi"
      },
      "source": [
        "## Preprocess and Tokenize the Captions"
      ]
    },
    {
      "cell_type": "code",
      "metadata": {
        "execution": {
          "iopub.execute_input": "2021-06-16T19:03:41.689465Z",
          "iopub.status.busy": "2021-06-16T19:03:41.688894Z",
          "iopub.status.idle": "2021-06-16T19:03:41.691000Z",
          "shell.execute_reply": "2021-06-16T19:03:41.690603Z"
        },
        "id": "HZfK8RhQRPFj"
      },
      "source": [
        "# Find the maximum length of any caption in the dataset\n",
        "def calc_max_length(tensor):\n",
        "    return max(len(t) for t in tensor)"
      ],
      "execution_count": null,
      "outputs": []
    },
    {
      "cell_type": "code",
      "metadata": {
        "execution": {
          "iopub.execute_input": "2021-06-16T19:03:41.765927Z",
          "iopub.status.busy": "2021-06-16T19:03:41.729501Z",
          "iopub.status.idle": "2021-06-16T19:03:42.059377Z",
          "shell.execute_reply": "2021-06-16T19:03:42.059880Z"
        },
        "id": "oJGE34aiRPFo"
      },
      "source": [
        "# Choose the top 5000 words from the vocabulary\n",
        "top_k = 7000\n",
        "tokenizer = tf.keras.preprocessing.text.Tokenizer(num_words=top_k,\n",
        "                                                  oov_token=\"<unk>\",\n",
        "                                                  filters='!\"#$%&()*+.,-/:;=?@[\\]^_`{|}~')\n",
        "tokenizer.fit_on_texts(train_captions)"
      ],
      "execution_count": null,
      "outputs": []
    },
    {
      "cell_type": "code",
      "metadata": {
        "execution": {
          "iopub.execute_input": "2021-06-16T19:03:42.064079Z",
          "iopub.status.busy": "2021-06-16T19:03:42.063449Z",
          "iopub.status.idle": "2021-06-16T19:03:42.065687Z",
          "shell.execute_reply": "2021-06-16T19:03:42.065248Z"
        },
        "id": "8Q44tNQVRPFt"
      },
      "source": [
        "tokenizer.word_index['<pad>'] = 0\n",
        "tokenizer.index_word[0] = '<pad>'"
      ],
      "execution_count": null,
      "outputs": []
    },
    {
      "cell_type": "code",
      "metadata": {
        "execution": {
          "iopub.execute_input": "2021-06-16T19:03:42.109636Z",
          "iopub.status.busy": "2021-06-16T19:03:42.104343Z",
          "iopub.status.idle": "2021-06-16T19:03:42.351210Z",
          "shell.execute_reply": "2021-06-16T19:03:42.351653Z"
        },
        "id": "0fpJb5ojRPFv"
      },
      "source": [
        "# Create the tokenized vectors\n",
        "train_seqs = tokenizer.texts_to_sequences(train_captions)"
      ],
      "execution_count": null,
      "outputs": []
    },
    {
      "cell_type": "code",
      "metadata": {
        "execution": {
          "iopub.execute_input": "2021-06-16T19:03:42.360337Z",
          "iopub.status.busy": "2021-06-16T19:03:42.359572Z",
          "iopub.status.idle": "2021-06-16T19:03:42.467407Z",
          "shell.execute_reply": "2021-06-16T19:03:42.467827Z"
        },
        "id": "AidglIZVRPF4"
      },
      "source": [
        "# Pad each vector to the max_length of the captions\n",
        "cap_vector = tf.keras.preprocessing.sequence.pad_sequences(train_seqs, padding='post')"
      ],
      "execution_count": null,
      "outputs": []
    },
    {
      "cell_type": "code",
      "metadata": {
        "execution": {
          "iopub.execute_input": "2021-06-16T19:03:42.473887Z",
          "iopub.status.busy": "2021-06-16T19:03:42.473224Z",
          "iopub.status.idle": "2021-06-16T19:03:42.475335Z",
          "shell.execute_reply": "2021-06-16T19:03:42.474848Z"
        },
        "id": "gL0wkttkRPGA"
      },
      "source": [
        "# Calculates the max_length, which is used to store the attention weights\n",
        "max_length = calc_max_length(train_seqs)"
      ],
      "execution_count": null,
      "outputs": []
    },
    {
      "cell_type": "markdown",
      "metadata": {
        "id": "M3CD75nDpvTI"
      },
      "source": [
        "## Split the Data into Training and Testing"
      ]
    },
    {
      "cell_type": "code",
      "metadata": {
        "execution": {
          "iopub.execute_input": "2021-06-16T19:03:42.502481Z",
          "iopub.status.busy": "2021-06-16T19:03:42.501799Z",
          "iopub.status.idle": "2021-06-16T19:03:42.504173Z",
          "shell.execute_reply": "2021-06-16T19:03:42.503650Z"
        },
        "id": "iS7DDMszRPGF"
      },
      "source": [
        "img_to_cap_vector = collections.defaultdict(list)\n",
        "for img, cap in zip(img_name_vector, cap_vector):\n",
        "  img_to_cap_vector[img].append(cap)\n",
        "\n",
        "# Create training and validation sets using an 80-20 split randomly.\n",
        "img_keys = list(img_to_cap_vector.keys())\n",
        "random.shuffle(img_keys)\n",
        "\n",
        "slice_index = int(len(img_keys)*0.8)\n",
        "img_name_train_keys, img_name_val_keys = img_keys[:slice_index], img_keys[slice_index:]\n",
        "\n",
        "img_name_train = []\n",
        "cap_train = []\n",
        "for imgt in img_name_train_keys:\n",
        "  capt_len = len(img_to_cap_vector[imgt])\n",
        "  img_name_train.extend([imgt] * capt_len)\n",
        "  cap_train.extend(img_to_cap_vector[imgt])\n",
        "\n",
        "img_name_val = []\n",
        "cap_val = []\n",
        "for imgv in img_name_val_keys:\n",
        "  capv_len = len(img_to_cap_vector[imgv])\n",
        "  img_name_val.extend([imgv] * capv_len)\n",
        "  cap_val.extend(img_to_cap_vector[imgv])"
      ],
      "execution_count": null,
      "outputs": []
    },
    {
      "cell_type": "code",
      "metadata": {
        "execution": {
          "iopub.execute_input": "2021-06-16T19:03:42.508206Z",
          "iopub.status.busy": "2021-06-16T19:03:42.507505Z",
          "iopub.status.idle": "2021-06-16T19:03:42.510045Z",
          "shell.execute_reply": "2021-06-16T19:03:42.510409Z"
        },
        "id": "XmViPkRFRPGH"
      },
      "source": [
        "len(img_name_train), len(cap_train), len(img_name_val), len(cap_val)"
      ],
      "execution_count": null,
      "outputs": []
    },
    {
      "cell_type": "markdown",
      "metadata": {
        "id": "uEWM9xrYcg45"
      },
      "source": [
        "## Create a `tf.data` Dataset for Training\n"
      ]
    },
    {
      "cell_type": "code",
      "metadata": {
        "execution": {
          "iopub.execute_input": "2021-06-16T19:03:42.514418Z",
          "iopub.status.busy": "2021-06-16T19:03:42.513849Z",
          "iopub.status.idle": "2021-06-16T19:03:42.515781Z",
          "shell.execute_reply": "2021-06-16T19:03:42.516146Z"
        },
        "id": "Q3TnZ1ToRPGV"
      },
      "source": [
        "BATCH_SIZE = 64\n",
        "BUFFER_SIZE = 1000\n",
        "embedding_dim = 256\n",
        "units = 512\n",
        "vocab_size = top_k + 1\n",
        "num_steps = len(img_name_train) // BATCH_SIZE\n",
        "\n",
        "# Shape of the vector extracted from InceptionV3 is (64, 2048)\n",
        "features_shape = 2048\n",
        "attention_features_shape = 64"
      ],
      "execution_count": null,
      "outputs": []
    },
    {
      "cell_type": "code",
      "metadata": {
        "execution": {
          "iopub.execute_input": "2021-06-16T19:03:42.519743Z",
          "iopub.status.busy": "2021-06-16T19:03:42.519150Z",
          "iopub.status.idle": "2021-06-16T19:03:42.520857Z",
          "shell.execute_reply": "2021-06-16T19:03:42.521234Z"
        },
        "id": "SmZS2N0bXG3T"
      },
      "source": [
        "# Load the numpy files\n",
        "def map_func(img_name, cap):\n",
        "  img_tensor = np.load(img_name.decode('utf-8')+'.npy')\n",
        "  return img_tensor, cap"
      ],
      "execution_count": null,
      "outputs": []
    },
    {
      "cell_type": "code",
      "metadata": {
        "execution": {
          "iopub.execute_input": "2021-06-16T19:03:42.549098Z",
          "iopub.status.busy": "2021-06-16T19:03:42.543917Z",
          "iopub.status.idle": "2021-06-16T19:03:43.180044Z",
          "shell.execute_reply": "2021-06-16T19:03:43.179448Z"
        },
        "id": "FDF_Nm3tRPGZ"
      },
      "source": [
        "dataset = tf.data.Dataset.from_tensor_slices((img_name_train, cap_train))\n",
        "\n",
        "# Use map to load the numpy files in parallel\n",
        "dataset = dataset.map(lambda item1, item2: tf.numpy_function(\n",
        "          map_func, [item1, item2], [tf.float32, tf.int32]),\n",
        "          num_parallel_calls=tf.data.AUTOTUNE)\n",
        "\n",
        "# Shuffle and batch\n",
        "dataset = dataset.shuffle(BUFFER_SIZE).batch(BATCH_SIZE)\n",
        "dataset = dataset.prefetch(buffer_size=tf.data.AUTOTUNE)"
      ],
      "execution_count": null,
      "outputs": []
    },
    {
      "cell_type": "markdown",
      "metadata": {
        "id": "nrvoDphgRPGd"
      },
      "source": [
        "## Model"
      ]
    },
    {
      "cell_type": "code",
      "metadata": {
        "execution": {
          "iopub.execute_input": "2021-06-16T19:03:43.186027Z",
          "iopub.status.busy": "2021-06-16T19:03:43.185429Z",
          "iopub.status.idle": "2021-06-16T19:03:43.187149Z",
          "shell.execute_reply": "2021-06-16T19:03:43.187613Z"
        },
        "id": "ja2LFTMSdeV3"
      },
      "source": [
        "class AttentionBlock(tf.keras.Model):\n",
        "  def __init__(self, units):\n",
        "    super(AttentionBlock, self).__init__()\n",
        "    self.W1 = tf.keras.layers.Dense(units)\n",
        "    self.W2 = tf.keras.layers.Dense(units)\n",
        "    self.V = tf.keras.layers.Dense(1)\n",
        "\n",
        "  def call(self, features, hidden):\n",
        "    # features(EncoderBlock output) shape == (batch_size, 64, embedding_dim)\n",
        "\n",
        "    # hidden shape == (batch_size, hidden_size)\n",
        "    # hidden_with_time_axis shape == (batch_size, 1, hidden_size)\n",
        "    hidden_with_time_axis = tf.expand_dims(hidden, 1)\n",
        "\n",
        "    # attention_hidden_layer shape == (batch_size, 64, units)\n",
        "    attention_hidden_layer = (tf.nn.tanh(self.W1(features) +\n",
        "                                         self.W2(hidden_with_time_axis)))\n",
        "\n",
        "    # score shape == (batch_size, 64, 1)\n",
        "    # This gives you an unnormalized score for each image feature.\n",
        "    score = self.V(attention_hidden_layer)\n",
        "\n",
        "    # attention_weights shape == (batch_size, 64, 1)\n",
        "    attention_weights = tf.nn.softmax(score, axis=1)\n",
        "\n",
        "    # context_vector shape after sum == (batch_size, hidden_size)\n",
        "    context_vector = attention_weights * features\n",
        "    context_vector = tf.reduce_sum(context_vector, axis=1)\n",
        "\n",
        "    return context_vector, attention_weights"
      ],
      "execution_count": null,
      "outputs": []
    },
    {
      "cell_type": "code",
      "metadata": {
        "execution": {
          "iopub.execute_input": "2021-06-16T19:03:43.191790Z",
          "iopub.status.busy": "2021-06-16T19:03:43.191200Z",
          "iopub.status.idle": "2021-06-16T19:03:43.192974Z",
          "shell.execute_reply": "2021-06-16T19:03:43.193303Z"
        },
        "id": "AZ7R1RxHRPGf"
      },
      "source": [
        "class EncoderBlock(tf.keras.Model):\n",
        "    # Since you have already extracted the features and dumped it\n",
        "    # This encoder passes those features through a Fully connected layer\n",
        "    def __init__(self, embedding_dim):\n",
        "        super(EncoderBlock, self).__init__()\n",
        "        # shape after fc == (batch_size, 64, embedding_dim)\n",
        "        self.fc = tf.keras.layers.Dense(embedding_dim)\n",
        "\n",
        "    def call(self, x):\n",
        "        x = self.fc(x)\n",
        "        x = tf.nn.relu(x)\n",
        "        return x"
      ],
      "execution_count": null,
      "outputs": []
    },
    {
      "cell_type": "code",
      "metadata": {
        "execution": {
          "iopub.execute_input": "2021-06-16T19:03:43.199912Z",
          "iopub.status.busy": "2021-06-16T19:03:43.199291Z",
          "iopub.status.idle": "2021-06-16T19:03:43.201373Z",
          "shell.execute_reply": "2021-06-16T19:03:43.200951Z"
        },
        "id": "V9UbGQmERPGi"
      },
      "source": [
        "class DecoderBlock(tf.keras.Model):\n",
        "  def __init__(self, embedding_dim, units, vocab_size):\n",
        "    super(DecoderBlock, self).__init__()\n",
        "    self.units = units\n",
        "\n",
        "    self.embedding = tf.keras.layers.Embedding(vocab_size, embedding_dim)\n",
        "    self.gru = tf.keras.layers.GRU(self.units,\n",
        "                                   return_sequences=True,\n",
        "                                   return_state=True,\n",
        "                                   recurrent_initializer='glorot_uniform')\n",
        "    self.fc1 = tf.keras.layers.Dense(self.units)\n",
        "    self.fc2 = tf.keras.layers.Dense(vocab_size)\n",
        "\n",
        "    self.attention = AttentionBlock(self.units)\n",
        "\n",
        "  def call(self, x, features, hidden):\n",
        "    # defining attention as a separate model\n",
        "    context_vector, attention_weights = self.attention(features, hidden)\n",
        "\n",
        "    # x shape after passing through embedding == (batch_size, 1, embedding_dim)\n",
        "    x = self.embedding(x)\n",
        "\n",
        "    # x shape after concatenation == (batch_size, 1, embedding_dim + hidden_size)\n",
        "    x = tf.concat([tf.expand_dims(context_vector, 1), x], axis=-1)\n",
        "\n",
        "    # passing the concatenated vector to the GRU\n",
        "    output, state = self.gru(x)\n",
        "\n",
        "    # shape == (batch_size, max_length, hidden_size)\n",
        "    x = self.fc1(output)\n",
        "\n",
        "    # x shape == (batch_size * max_length, hidden_size)\n",
        "    x = tf.reshape(x, (-1, x.shape[2]))\n",
        "\n",
        "    # output shape == (batch_size * max_length, vocab)\n",
        "    x = self.fc2(x)\n",
        "\n",
        "    return x, state, attention_weights\n",
        "\n",
        "  def reset_state(self, batch_size):\n",
        "    return tf.zeros((batch_size, self.units))"
      ],
      "execution_count": null,
      "outputs": []
    },
    {
      "cell_type": "code",
      "metadata": {
        "execution": {
          "iopub.execute_input": "2021-06-16T19:03:43.205518Z",
          "iopub.status.busy": "2021-06-16T19:03:43.204921Z",
          "iopub.status.idle": "2021-06-16T19:03:43.218795Z",
          "shell.execute_reply": "2021-06-16T19:03:43.218336Z"
        },
        "id": "Qs_Sr03wRPGk"
      },
      "source": [
        "encoder = EncoderBlock(embedding_dim)\n",
        "decoder = DecoderBlock(embedding_dim, units, vocab_size)"
      ],
      "execution_count": null,
      "outputs": []
    },
    {
      "cell_type": "code",
      "metadata": {
        "execution": {
          "iopub.execute_input": "2021-06-16T19:03:43.223465Z",
          "iopub.status.busy": "2021-06-16T19:03:43.222890Z",
          "iopub.status.idle": "2021-06-16T19:03:43.225177Z",
          "shell.execute_reply": "2021-06-16T19:03:43.224728Z"
        },
        "id": "-bYN7xA0RPGl"
      },
      "source": [
        "optimizer = tf.keras.optimizers.Adam()\n",
        "loss_object = tf.keras.losses.SparseCategoricalCrossentropy(\n",
        "    from_logits=True, reduction='none')\n",
        "\n",
        "\n",
        "def loss_function(real, pred):\n",
        "  mask = tf.math.logical_not(tf.math.equal(real, 0))\n",
        "  loss_ = loss_object(real, pred)\n",
        "\n",
        "  mask = tf.cast(mask, dtype=loss_.dtype)\n",
        "  loss_ *= mask\n",
        "\n",
        "  return tf.reduce_mean(loss_)"
      ],
      "execution_count": null,
      "outputs": []
    },
    {
      "cell_type": "markdown",
      "metadata": {
        "id": "6A3Ni64joyab"
      },
      "source": [
        "## Checkpoint"
      ]
    },
    {
      "cell_type": "code",
      "metadata": {
        "execution": {
          "iopub.execute_input": "2021-06-16T19:03:43.229220Z",
          "iopub.status.busy": "2021-06-16T19:03:43.228663Z",
          "iopub.status.idle": "2021-06-16T19:03:43.239852Z",
          "shell.execute_reply": "2021-06-16T19:03:43.239305Z"
        },
        "id": "PpJAqPMWo0uE"
      },
      "source": [
        "checkpoint_path = \"./checkpoints/train\"\n",
        "ckpt = tf.train.Checkpoint(encoder=encoder,\n",
        "                           decoder=decoder,\n",
        "                           optimizer=optimizer)\n",
        "ckpt_manager = tf.train.CheckpointManager(ckpt, checkpoint_path, max_to_keep=5)"
      ],
      "execution_count": null,
      "outputs": []
    },
    {
      "cell_type": "code",
      "metadata": {
        "execution": {
          "iopub.execute_input": "2021-06-16T19:03:43.243610Z",
          "iopub.status.busy": "2021-06-16T19:03:43.242984Z",
          "iopub.status.idle": "2021-06-16T19:03:43.244749Z",
          "shell.execute_reply": "2021-06-16T19:03:43.245082Z"
        },
        "id": "fUkbqhc_uObw"
      },
      "source": [
        "start_epoch = 0\n",
        "if ckpt_manager.latest_checkpoint:\n",
        "  start_epoch = int(ckpt_manager.latest_checkpoint.split('-')[-1])\n",
        "  # restoring the latest checkpoint in checkpoint_path\n",
        "  ckpt.restore(ckpt_manager.latest_checkpoint)"
      ],
      "execution_count": null,
      "outputs": []
    },
    {
      "cell_type": "markdown",
      "metadata": {
        "id": "PHod7t72RPGn"
      },
      "source": [
        "## Training"
      ]
    },
    {
      "cell_type": "code",
      "metadata": {
        "execution": {
          "iopub.execute_input": "2021-06-16T19:03:43.248254Z",
          "iopub.status.busy": "2021-06-16T19:03:43.247685Z",
          "iopub.status.idle": "2021-06-16T19:03:43.249460Z",
          "shell.execute_reply": "2021-06-16T19:03:43.249827Z"
        },
        "id": "Vt4WZ5mhJE-E"
      },
      "source": [
        "# Adding this in a separate cell because if you run the training cell many times, the loss_plot array will be reset\n",
        "loss_plot = []"
      ],
      "execution_count": null,
      "outputs": []
    },
    {
      "cell_type": "code",
      "metadata": {
        "execution": {
          "iopub.execute_input": "2021-06-16T19:03:43.255262Z",
          "iopub.status.busy": "2021-06-16T19:03:43.254700Z",
          "iopub.status.idle": "2021-06-16T19:03:43.256338Z",
          "shell.execute_reply": "2021-06-16T19:03:43.256706Z"
        },
        "id": "sqgyz2ANKlpU"
      },
      "source": [
        "@tf.function\n",
        "def train_step(img_tensor, target):\n",
        "  loss = 0\n",
        "\n",
        "  # initializing the hidden state for each batch\n",
        "  # because the captions are not related from image to image\n",
        "  hidden = decoder.reset_state(batch_size=target.shape[0])\n",
        "\n",
        "  dec_input = tf.expand_dims([tokenizer.word_index['<start>']] * target.shape[0], 1)\n",
        "\n",
        "  with tf.GradientTape() as tape:\n",
        "      features = encoder(img_tensor)\n",
        "\n",
        "      for i in range(1, target.shape[1]):\n",
        "          # passing the features through the decoder\n",
        "          predictions, hidden, _ = decoder(dec_input, features, hidden)\n",
        "\n",
        "          loss += loss_function(target[:, i], predictions)\n",
        "\n",
        "          # using teacher forcing\n",
        "          dec_input = tf.expand_dims(target[:, i], 1)\n",
        "\n",
        "  total_loss = (loss / int(target.shape[1]))\n",
        "\n",
        "  trainable_variables = encoder.trainable_variables + decoder.trainable_variables\n",
        "\n",
        "  gradients = tape.gradient(loss, trainable_variables)\n",
        "\n",
        "  optimizer.apply_gradients(zip(gradients, trainable_variables))\n",
        "\n",
        "  return loss, total_loss"
      ],
      "execution_count": null,
      "outputs": []
    },
    {
      "cell_type": "code",
      "metadata": {
        "execution": {
          "iopub.execute_input": "2021-06-16T19:03:43.261730Z",
          "iopub.status.busy": "2021-06-16T19:03:43.261028Z",
          "iopub.status.idle": "2021-06-16T19:20:10.177285Z",
          "shell.execute_reply": "2021-06-16T19:20:10.177647Z"
        },
        "id": "UlA4VIQpRPGo"
      },
      "source": [
        "# Model training\n",
        "EPOCHS = 30\n",
        "\n",
        "for epoch in range(start_epoch, EPOCHS):\n",
        "    start = time.time()\n",
        "    total_loss = 0\n",
        "\n",
        "    for (batch, (img_tensor, target)) in enumerate(dataset):\n",
        "        batch_loss, t_loss = train_step(img_tensor, target)\n",
        "        total_loss += t_loss\n",
        "\n",
        "        if batch % 300 == 0:\n",
        "            average_batch_loss = batch_loss.numpy()/int(target.shape[1])\n",
        "            print(f'Epoch {epoch+1} Batch {batch} Loss {average_batch_loss:.4f}')\n",
        "    # storing the epoch end loss value to plot later\n",
        "    loss_plot.append(total_loss / num_steps)\n",
        "\n",
        "    if epoch % 5 == 0:\n",
        "      ckpt_manager.save()\n",
        "\n",
        "    print(f'Epoch {epoch+1} Loss {total_loss/num_steps:.6f}')\n",
        "    print(f'Time taken for 1 epoch {time.time()-start:.2f} sec\\n')"
      ],
      "execution_count": null,
      "outputs": []
    },
    {
      "cell_type": "code",
      "metadata": {
        "execution": {
          "iopub.execute_input": "2021-06-16T19:20:10.193032Z",
          "iopub.status.busy": "2021-06-16T19:20:10.192347Z",
          "iopub.status.idle": "2021-06-16T19:20:10.320554Z",
          "shell.execute_reply": "2021-06-16T19:20:10.320118Z"
        },
        "id": "1Wm83G-ZBPcC"
      },
      "source": [
        "plt.plot(loss_plot)\n",
        "plt.xlabel('Epochs')\n",
        "plt.ylabel('Loss')\n",
        "plt.title('Loss Plot')\n",
        "plt.show()"
      ],
      "execution_count": null,
      "outputs": []
    },
    {
      "cell_type": "markdown",
      "metadata": {
        "id": "xGvOcLQKghXN"
      },
      "source": [
        "## Generate Caption"
      ]
    },
    {
      "cell_type": "code",
      "metadata": {
        "execution": {
          "iopub.execute_input": "2021-06-16T19:20:10.327705Z",
          "iopub.status.busy": "2021-06-16T19:20:10.326812Z",
          "iopub.status.idle": "2021-06-16T19:20:10.329127Z",
          "shell.execute_reply": "2021-06-16T19:20:10.328728Z"
        },
        "id": "RCWpDtyNRPGs"
      },
      "source": [
        "def evaluate(image):\n",
        "    attention_plot = np.zeros((max_length, attention_features_shape))\n",
        "\n",
        "    hidden = decoder.reset_state(batch_size=1)\n",
        "\n",
        "    temp_input = tf.expand_dims(load_image(image)[0], 0)\n",
        "    img_tensor_val = image_features_extract_model(temp_input)\n",
        "    img_tensor_val = tf.reshape(img_tensor_val, (img_tensor_val.shape[0],\n",
        "                                                 -1,\n",
        "                                                 img_tensor_val.shape[3]))\n",
        "\n",
        "    features = encoder(img_tensor_val)\n",
        "\n",
        "    dec_input = tf.expand_dims([tokenizer.word_index['<start>']], 0)\n",
        "    result = []\n",
        "\n",
        "    for i in range(max_length):\n",
        "        predictions, hidden, attention_weights = decoder(dec_input,\n",
        "                                                         features,\n",
        "                                                         hidden)\n",
        "\n",
        "        attention_plot[i] = tf.reshape(attention_weights, (-1, )).numpy()\n",
        "\n",
        "        predicted_id = tf.random.categorical(predictions, 1)[0][0].numpy()\n",
        "        result.append(tokenizer.index_word[predicted_id])\n",
        "\n",
        "        if tokenizer.index_word[predicted_id] == '<end>':\n",
        "            return result, attention_plot\n",
        "\n",
        "        dec_input = tf.expand_dims([predicted_id], 0)\n",
        "\n",
        "    attention_plot = attention_plot[:len(result), :]\n",
        "    return result, attention_plot"
      ],
      "execution_count": null,
      "outputs": []
    },
    {
      "cell_type": "code",
      "metadata": {
        "execution": {
          "iopub.execute_input": "2021-06-16T19:20:10.334790Z",
          "iopub.status.busy": "2021-06-16T19:20:10.333944Z",
          "iopub.status.idle": "2021-06-16T19:20:10.336155Z",
          "shell.execute_reply": "2021-06-16T19:20:10.335755Z"
        },
        "id": "fD_y7PD6RPGt"
      },
      "source": [
        "def plot_attention(image, result, attention_plot):\n",
        "    temp_image = np.array(Image.open(image))\n",
        "\n",
        "    fig = plt.figure(figsize=(10, 10))\n",
        "\n",
        "    len_result = len(result)\n",
        "    for i in range(len_result):\n",
        "        temp_att = np.resize(attention_plot[i], (8, 8))\n",
        "        grid_size = max(np.ceil(len_result/2), 2)\n",
        "        ax = fig.add_subplot(grid_size, grid_size, i+1)\n",
        "        ax.set_title(result[i])\n",
        "        img = ax.imshow(temp_image)\n",
        "        ax.imshow(temp_att, cmap='gray', alpha=0.6, extent=img.get_extent())\n",
        "\n",
        "    plt.tight_layout()\n",
        "    plt.show()"
      ],
      "execution_count": null,
      "outputs": []
    },
    {
      "cell_type": "code",
      "metadata": {
        "execution": {
          "iopub.execute_input": "2021-06-16T19:20:10.345417Z",
          "iopub.status.busy": "2021-06-16T19:20:10.344615Z",
          "iopub.status.idle": "2021-06-16T19:20:11.744366Z",
          "shell.execute_reply": "2021-06-16T19:20:11.744738Z"
        },
        "id": "7x8RiPHe_4qI"
      },
      "source": [
        "# Captions on the validation set\n",
        "rid = np.random.randint(0, len(img_name_val))\n",
        "image = img_name_val[rid]\n",
        "real_caption = ' '.join([tokenizer.index_word[i]\n",
        "                        for i in cap_val[rid] if i not in [0]])\n",
        "result, attention_plot = evaluate(image)\n",
        "\n",
        "print('Real Caption:', real_caption.replace('<start> ', '').replace(' <end>', ''))\n",
        "print('Prediction Caption:', ' '.join(result).replace(' <end>', ''))\n",
        "plot_attention(image, result, attention_plot)"
      ],
      "execution_count": null,
      "outputs": []
    },
    {
      "cell_type": "markdown",
      "metadata": {
        "id": "Rprk3HEvZuxb"
      },
      "source": [
        "## Try it on your own Images\n"
      ]
    },
    {
      "cell_type": "code",
      "metadata": {
        "execution": {
          "iopub.execute_input": "2021-06-16T19:20:11.749523Z",
          "iopub.status.busy": "2021-06-16T19:20:11.748977Z",
          "iopub.status.idle": "2021-06-16T19:20:14.425497Z",
          "shell.execute_reply": "2021-06-16T19:20:14.425876Z"
        },
        "id": "9Psd1quzaAWg"
      },
      "source": [
        "image_url = 'https://tensorflow.org/images/surf.jpg'\n",
        "image_extension = image_url[-4:]\n",
        "image_path = tf.keras.utils.get_file('image'+image_extension, origin=image_url)\n",
        "\n",
        "result, attention_plot = evaluate(image_path)\n",
        "print('Prediction Caption:', ' '.join(result).replace(' <end>', ''))\n",
        "plot_attention(image_path, result, attention_plot)\n",
        "# opening the image\n",
        "Image.open(image_path)"
      ],
      "execution_count": null,
      "outputs": []
    },
    {
      "cell_type": "markdown",
      "metadata": {
        "id": "CumnApvjjB-F"
      },
      "source": [
        "## Calculate Corpus BLEU Score"
      ]
    },
    {
      "cell_type": "code",
      "metadata": {
        "id": "_JwKLQ-pjCdF"
      },
      "source": [
        "# Create empty lists to store captions as tokens\n",
        "references = []\n",
        "candidates = []\n",
        "\n",
        "# Create a progressbar\n",
        "pbar = ProgressBar()\n",
        "\n",
        "# Loop over every validation image\n",
        "for i in pbar(range(len(img_name_val))):\n",
        "  # Extract image path\n",
        "  img_path = img_name_val[i]\n",
        "\n",
        "  # Extract caption for each image\n",
        "  real_caption = ' '.join([tokenizer.index_word[j] for j in cap_val[i] if j not in [0]])\n",
        "  real_caption = real_caption.replace('<start> ', '').replace(' <end>', '')\n",
        "  \n",
        "  # Append captions_list to references\n",
        "  references.append(real_caption)\n",
        "\n",
        "  # Predict a caption for the image\n",
        "  result, _ = evaluate(image_path)\n",
        "  pred_caption = ' '.join(result).replace(' <end>', '')\n",
        "  \n",
        "  # Append tokenized prediction caption to candidate list\n",
        "  candidates.append(pred_caption)\n",
        "\n",
        "# Calculate and print BLEU score\n",
        "BLEU_score = corpus_bleu(references, candidates)\n",
        "print('The BLEU Score is :', BLEU_score)"
      ],
      "execution_count": null,
      "outputs": []
    }
  ]
}